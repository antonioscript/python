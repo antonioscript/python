{
  "nbformat": 4,
  "nbformat_minor": 0,
  "metadata": {
    "colab": {
      "name": "SQLipynb",
      "provenance": [],
      "toc_visible": true,
      "authorship_tag": "ABX9TyMD411299MFhdiL7jQln8cD",
      "include_colab_link": true
    },
    "kernelspec": {
      "name": "python3",
      "display_name": "Python 3"
    },
    "language_info": {
      "name": "python"
    }
  },
  "cells": [
    {
      "cell_type": "markdown",
      "metadata": {
        "id": "view-in-github",
        "colab_type": "text"
      },
      "source": [
        "<a href=\"https://colab.research.google.com/github/antonioscript/SQL/blob/main/SQLipynb.ipynb\" target=\"_parent\"><img src=\"https://colab.research.google.com/assets/colab-badge.svg\" alt=\"Open In Colab\"/></a>"
      ]
    },
    {
      "cell_type": "markdown",
      "source": [
        "#Integração Python e MySQL"
      ],
      "metadata": {
        "id": "LoQ79OmVkYPb"
      }
    },
    {
      "cell_type": "markdown",
      "source": [
        "#0 - CONEXÃO"
      ],
      "metadata": {
        "id": "Thpz9XU1keZe"
      }
    },
    {
      "cell_type": "code",
      "source": [
        "import mysql.connector\n",
        "\n",
        "mydb = mysql.connector.connect (\n",
        "\thost = \"localhost\", \n",
        "\tuser = \"root\",\n",
        "\tpassword = \"#\",\n",
        "\tdatabase = \"universidade\"\n",
        ")\n",
        "mycursor = mydb.cursor()"
      ],
      "metadata": {
        "id": "TvcnpD31k62W"
      },
      "execution_count": null,
      "outputs": []
    },
    {
      "cell_type": "markdown",
      "source": [
        "#1 - MOSTRANDO TODOS OS DATABASES"
      ],
      "metadata": {
        "id": "YGqVupb8k_K4"
      }
    },
    {
      "cell_type": "code",
      "source": [
        "mycursor.execute(\"SHOW DATABASES\")\n",
        "for x in mycursor:\n",
        "\tprint(x)"
      ],
      "metadata": {
        "id": "XYvqZBAllE8t"
      },
      "execution_count": null,
      "outputs": []
    },
    {
      "cell_type": "markdown",
      "source": [
        "#2 - CRIANDO TABELA"
      ],
      "metadata": {
        "id": "jBIsSmS1lH2H"
      }
    },
    {
      "cell_type": "code",
      "source": [
        "mycursor.execute(\"CREATE TABLE alunos (name VARCHAR(255), curso VARCHAR (255))\")"
      ],
      "metadata": {
        "id": "f3aESoL5lMHG"
      },
      "execution_count": null,
      "outputs": []
    },
    {
      "cell_type": "markdown",
      "source": [
        "#3 - MOSTRANDO A TABELA"
      ],
      "metadata": {
        "id": "0QEvdULSlUkI"
      }
    },
    {
      "cell_type": "code",
      "source": [
        "mycursor.execute(\"SHOW TABLES\")\n",
        "for x in mycursor:\n",
        "\tprint(x)"
      ],
      "metadata": {
        "id": "HwvpqXcZlOn1"
      },
      "execution_count": null,
      "outputs": []
    },
    {
      "cell_type": "markdown",
      "source": [
        "#4 - CRIANDO CHAVE PRIMÁRIA DA TABELA"
      ],
      "metadata": {
        "id": "07y8uYIOlT3R"
      }
    },
    {
      "cell_type": "code",
      "source": [
        "mycursor.execute(\"CREATE TABLE discentes (id INT AUTO_INCREMENT PRIMARY KEY, nome VARCHAR (255), curso VARCHAR (255))\")"
      ],
      "metadata": {
        "id": "KpYdKbglldpg"
      },
      "execution_count": null,
      "outputs": []
    },
    {
      "cell_type": "markdown",
      "source": [
        "#5 - INSERT\n"
      ],
      "metadata": {
        "id": "jDilzI42lgDH"
      }
    },
    {
      "cell_type": "code",
      "source": [
        "sql = \"INSERT INTO discentes (nome, curso) VALUES (%s,%s)\"\n",
        "val = (\"Catarina\", \"Engenheria Renováveis\")\n",
        "mycursor.execute(sql, val)\n",
        "mydb.commit()\n",
        "print(mycursor.rowcount, \"registro(s) inserido\")"
      ],
      "metadata": {
        "id": "p7nBbvl_lpmg"
      },
      "execution_count": null,
      "outputs": []
    },
    {
      "cell_type": "markdown",
      "source": [
        "#6 - INSERT MÚLTIPLOS"
      ],
      "metadata": {
        "id": "JZ-6oDuglgHV"
      }
    },
    {
      "cell_type": "code",
      "source": [
        "sql = \"INSERT INTO discentes (nome, curso) VALUES (%s,%s)\"\n",
        "val = [\n",
        "\t(\"Antônio\", \"Engenharia de Alimentos\"),\n",
        "\t(\"Jhonatan\", \"Engenharia de Materiais\"),\n",
        "\t(\"Letícia\", \"Administração\"), \n",
        "\t(\"Deybison\", \"Medicina\"), \n",
        "\t(\"Jackson\", \"Filosofia\"), \n",
        "\t(\"Laura\", \"Administração\"),\n",
        "\t(\"Peter\", \"Engenharia Mecânica\"), \n",
        "\t(\"Mutano\", \"Veterinária\"),\n",
        "\t(\"Diana\", \"Artes\"),\n",
        "\t(\"Klaus\", \"Análise de Sistemas\"),\n",
        "\t(\"Clarck\", \"Jornalismo\"),\n",
        "\t(\"Kamala\", \"Ciẽncias Políticas\"),\n",
        "\t(\"Zattana\", \"Astronomia\")\n",
        "]\n",
        "mycursor.executemany(sql, val)#obs: 'many'\n",
        "mydb.commit()\n",
        "print(mycursor.rowcount, \"registros inseridos\")"
      ],
      "metadata": {
        "id": "bsHqXWpOlx4P"
      },
      "execution_count": null,
      "outputs": []
    },
    {
      "cell_type": "markdown",
      "source": [
        "#7 - SELECT (MOSTRANDO OS REGISTROS)"
      ],
      "metadata": {
        "id": "t21sTi4Vlyjn"
      }
    },
    {
      "cell_type": "code",
      "source": [
        "mycursor.execute(\"SELECT * FROM discentes\")\n",
        "\n",
        "myresult = mycursor.fetchall()\n",
        "\n",
        "for x in myresult:\n",
        "  print(x)\n"
      ],
      "metadata": {
        "id": "kprPe9a4l3dz"
      },
      "execution_count": null,
      "outputs": []
    },
    {
      "cell_type": "markdown",
      "source": [
        "#8 - SELECT COLUMNS"
      ],
      "metadata": {
        "id": "HNNtlNCgl5vI"
      }
    },
    {
      "cell_type": "code",
      "source": [
        "mycursor.execute(\"SELECT nome FROM discentes\") #Selecionando apenas os nomes\n",
        "myresult = mycursor.fetchall()\n",
        "for x in myresult:\n",
        "\tprint(x)"
      ],
      "metadata": {
        "id": "4tUGsnREmG8L"
      },
      "execution_count": null,
      "outputs": []
    },
    {
      "cell_type": "markdown",
      "source": [
        "#9 - WHERE"
      ],
      "metadata": {
        "id": "_AiQXq3ymKrC"
      }
    },
    {
      "cell_type": "code",
      "source": [
        "sql = \"SELECT * FROM discentes WHERE curso = 'Filosofia'\" #Retorna quem faz Filosofia\n",
        "\n",
        "mycursor.execute(sql)\n",
        "\n",
        "myresult = mycursor.fetchall()\n",
        "\n",
        "for x in myresult:\n",
        "  print(x)"
      ],
      "metadata": {
        "id": "Jmp0QYKKmRTC"
      },
      "execution_count": null,
      "outputs": []
    },
    {
      "cell_type": "markdown",
      "source": [
        "#10 - ORDER BY"
      ],
      "metadata": {
        "id": "WXy5KATNmLlp"
      }
    },
    {
      "cell_type": "code",
      "source": [
        "sql = \"SELECT * FROM discentes order by nome \" #DESC\n",
        "mycursor.execute(sql)\n",
        "\n",
        "myresult = mycursor.fetchall()\n",
        "\n",
        "for x in myresult:\n",
        "  print(x)"
      ],
      "metadata": {
        "id": "0-7DtsM0mV36"
      },
      "execution_count": null,
      "outputs": []
    },
    {
      "cell_type": "markdown",
      "source": [
        "#11 - DELETE"
      ],
      "metadata": {
        "id": "b3gzLGNumWww"
      }
    },
    {
      "cell_type": "code",
      "source": [
        "sql = \"DELETE FROM discentes WHERE nome = 'Laura'\"\n",
        "mycursor.execute(sql)\n",
        "mydb.commit()\n",
        "print(mycursor.rowcount, \"registro(s) deletado\")"
      ],
      "metadata": {
        "id": "h04PAzR-mZqn"
      },
      "execution_count": null,
      "outputs": []
    },
    {
      "cell_type": "markdown",
      "source": [
        "#12 - DELETE TABLE"
      ],
      "metadata": {
        "id": "jmAQr5OOmbQH"
      }
    },
    {
      "cell_type": "code",
      "source": [
        "sql = \"DROP TABLE alunos\"\n",
        "mycursor.execute(sql)\n"
      ],
      "metadata": {
        "id": "K-PFVsAomt4S"
      },
      "execution_count": null,
      "outputs": []
    },
    {
      "cell_type": "markdown",
      "source": [
        "#13 - UPDATE"
      ],
      "metadata": {
        "id": "Ce1YTG-4msvv"
      }
    },
    {
      "cell_type": "code",
      "source": [
        "sql = \"UPDATE discentes SET curso = 'Análise de Sistemas' WHERE curso = 'Engenharia de Alimentos' \"\n",
        "mycursor.execute(sql)\n",
        "mydb.commit\n",
        "print(mycursor.rowcount, \"registro(s) afetado\")"
      ],
      "metadata": {
        "id": "HVYaKTd0myK4"
      },
      "execution_count": null,
      "outputs": []
    },
    {
      "cell_type": "markdown",
      "source": [
        "#14 - LIMIT"
      ],
      "metadata": {
        "id": "dfEQlrz2mys_"
      }
    },
    {
      "cell_type": "code",
      "source": [
        "mycursor.execute(\"SELECT * FROM discentes LIMIT 5\") #5 Primeiros\n",
        "myresult = mycursor.fetchall()\n",
        "\n",
        "for x in myresult:\n",
        "\tprint(x)"
      ],
      "metadata": {
        "id": "HeWaSnxjm0h_"
      },
      "execution_count": null,
      "outputs": []
    }
  ]
}
